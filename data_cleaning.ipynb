{
 "cells": [
  {
   "cell_type": "code",
   "id": "initial_id",
   "metadata": {
    "collapsed": true,
    "ExecuteTime": {
     "end_time": "2025-08-19T17:17:07.844080Z",
     "start_time": "2025-08-19T17:17:07.821468Z"
    }
   },
   "source": [
    "import json\n",
    "import os\n",
    "import re\n",
    "from openai import OpenAI\n",
    "from dotenv import load_dotenv"
   ],
   "outputs": [],
   "execution_count": 25
  },
  {
   "metadata": {
    "ExecuteTime": {
     "end_time": "2025-08-19T17:17:11.242269Z",
     "start_time": "2025-08-19T17:17:11.226415Z"
    }
   },
   "cell_type": "code",
   "source": "load_dotenv()",
   "id": "dd6f3481259577cc",
   "outputs": [
    {
     "data": {
      "text/plain": [
       "True"
      ]
     },
     "execution_count": 26,
     "metadata": {},
     "output_type": "execute_result"
    }
   ],
   "execution_count": 26
  },
  {
   "metadata": {
    "ExecuteTime": {
     "end_time": "2025-08-19T16:55:14.387160Z",
     "start_time": "2025-08-19T16:55:14.380610Z"
    }
   },
   "cell_type": "code",
   "source": [
    "books_list = os.listdir(\"data\")\n",
    "books_list.sort()\n",
    "books_list"
   ],
   "id": "c9e05dc974d19195",
   "outputs": [
    {
     "data": {
      "text/plain": [
       "['a_study_in_scarlet.txt',\n",
       " 'his_last_bow.txt',\n",
       " 'the_adventures_of_sherlock_holmes.txt',\n",
       " 'the_case_book_of_sherlock_holmes.txt',\n",
       " 'the_hound_of_the_baskervilles.txt',\n",
       " 'the_memoirs_of_sherlock_holmes.txt',\n",
       " 'the_return_of_sherlock_holmes.txt',\n",
       " 'the_sign_of_the_four.txt',\n",
       " 'the_valley_of_fear.txt']"
      ]
     },
     "execution_count": 12,
     "metadata": {},
     "output_type": "execute_result"
    }
   ],
   "execution_count": 12
  },
  {
   "metadata": {
    "ExecuteTime": {
     "end_time": "2025-08-19T17:02:05.651350Z",
     "start_time": "2025-08-19T17:02:05.636667Z"
    }
   },
   "cell_type": "code",
   "source": [
    "with open(r\"data\\a_study_in_scarlet.txt\", \"r\", encoding=\"utf-8\") as f:\n",
    "    text = f.read()"
   ],
   "id": "5ef152fd8dfd4dae",
   "outputs": [],
   "execution_count": 18
  },
  {
   "metadata": {
    "ExecuteTime": {
     "end_time": "2025-08-19T17:35:40.372936Z",
     "start_time": "2025-08-19T17:35:40.364804Z"
    }
   },
   "cell_type": "code",
   "source": [
    "# printing first 5000 characters\n",
    "print(text[:5000])"
   ],
   "id": "2a2d87389286e694",
   "outputs": [
    {
     "name": "stdout",
     "output_type": "stream",
     "text": [
      "A STUDY IN SCARLET\n",
      "\n",
      "By A. Conan Doyle\n",
      "\n",
      "\n",
      "\n",
      "\n",
      "CONTENTS\n",
      "\n",
      " A STUDY IN SCARLET.\n",
      "\n",
      " PART I.\n",
      " CHAPTER I. MR. SHERLOCK HOLMES.\n",
      " CHAPTER II. THE SCIENCE OF DEDUCTION.\n",
      " CHAPTER III. THE LAURISTON GARDENS MYSTERY\n",
      " CHAPTER IV. WHAT JOHN RANCE HAD TO TELL.\n",
      " CHAPTER V. OUR ADVERTISEMENT BRINGS A VISITOR.\n",
      " CHAPTER VI. TOBIAS GREGSON SHOWS WHAT HE CAN DO.\n",
      " CHAPTER VII. LIGHT IN THE DARKNESS.\n",
      "\n",
      " PART II. THE COUNTRY OF THE SAINTS\n",
      " CHAPTER I. ON THE GREAT ALKALI PLAIN.\n",
      " CHAPTER II. THE FLOWER OF UTAH.\n",
      " CHAPTER III. JOHN FERRIER TALKS WITH THE PROPHET.\n",
      " CHAPTER IV. A FLIGHT FOR LIFE.\n",
      " CHAPTER V. THE AVENGING ANGELS.\n",
      " CHAPTER VI. A CONTINUATION OF THE REMINISCENCES OF JOHN WATSON, M.D.\n",
      " CHAPTER VII. THE CONCLUSION.\n",
      "\n",
      "\n",
      "\n",
      "\n",
      "A STUDY IN SCARLET.\n",
      "\n",
      "\n",
      "\n",
      "\n",
      "PART I.\n",
      "\n",
      "\n",
      "(_Being a reprint from the Reminiscences of_ JOHN H. WATSON, M.D.,\n",
      "_Late of the Army Medical Department._)\n",
      "\n",
      "\n",
      "\n",
      "\n",
      "CHAPTER I.\n",
      "MR. SHERLOCK HOLMES.\n",
      "\n",
      "\n",
      "In the year 1878 I took my degree of Doctor of Medicine of the\n",
      "University of London, and proceeded to Netley to go through the course\n",
      "prescribed for surgeons in the army. Having completed my studies there,\n",
      "I was duly attached to the Fifth Northumberland Fusiliers as Assistant\n",
      "Surgeon. The regiment was stationed in India at the time, and before I\n",
      "could join it, the second Afghan war had broken out. On landing at\n",
      "Bombay, I learned that my corps had advanced through the passes, and\n",
      "was already deep in the enemy’s country. I followed, however, with many\n",
      "other officers who were in the same situation as myself, and succeeded\n",
      "in reaching Candahar in safety, where I found my regiment, and at once\n",
      "entered upon my new duties.\n",
      "\n",
      "The campaign brought honours and promotion to many, but for me it had\n",
      "nothing but misfortune and disaster. I was removed from my brigade and\n",
      "attached to the Berkshires, with whom I served at the fatal battle of\n",
      "Maiwand. There I was struck on the shoulder by a Jezail bullet, which\n",
      "shattered the bone and grazed the subclavian artery. I should have\n",
      "fallen into the hands of the murderous Ghazis had it not been for the\n",
      "devotion and courage shown by Murray, my orderly, who threw me across a\n",
      "pack-horse, and succeeded in bringing me safely to the British lines.\n",
      "\n",
      "Worn with pain, and weak from the prolonged hardships which I had\n",
      "undergone, I was removed, with a great train of wounded sufferers, to\n",
      "the base hospital at Peshawar. Here I rallied, and had already improved\n",
      "so far as to be able to walk about the wards, and even to bask a little\n",
      "upon the verandah, when I was struck down by enteric fever, that curse\n",
      "of our Indian possessions. For months my life was despaired of, and\n",
      "when at last I came to myself and became convalescent, I was so weak\n",
      "and emaciated that a medical board determined that not a day should be\n",
      "lost in sending me back to England. I was dispatched, accordingly, in\n",
      "the troopship “Orontes,” and landed a month later on Portsmouth jetty,\n",
      "with my health irretrievably ruined, but with permission from a\n",
      "paternal government to spend the next nine months in attempting to\n",
      "improve it.\n",
      "\n",
      "I had neither kith nor kin in England, and was therefore as free as\n",
      "air—or as free as an income of eleven shillings and sixpence a day will\n",
      "permit a man to be. Under such circumstances, I naturally gravitated to\n",
      "London, that great cesspool into which all the loungers and idlers of\n",
      "the Empire are irresistibly drained. There I stayed for some time at a\n",
      "private hotel in the Strand, leading a comfortless, meaningless\n",
      "existence, and spending such money as I had, considerably more freely\n",
      "than I ought. So alarming did the state of my finances become, that I\n",
      "soon realized that I must either leave the metropolis and rusticate\n",
      "somewhere in the country, or that I must make a complete alteration in\n",
      "my style of living. Choosing the latter alternative, I began by making\n",
      "up my mind to leave the hotel, and to take up my quarters in some less\n",
      "pretentious and less expensive domicile.\n",
      "\n",
      "On the very day that I had come to this conclusion, I was standing at\n",
      "the Criterion Bar, when some one tapped me on the shoulder, and turning\n",
      "round I recognized young Stamford, who had been a dresser under me at\n",
      "Barts. The sight of a friendly face in the great wilderness of London\n",
      "is a pleasant thing indeed to a lonely man. In old days Stamford had\n",
      "never been a particular crony of mine, but now I hailed him with\n",
      "enthusiasm, and he, in his turn, appeared to be delighted to see me. In\n",
      "the exuberance of my joy, I asked him to lunch with me at the Holborn,\n",
      "and we started off together in a hansom.\n",
      "\n",
      "“Whatever have you been doing with yourself, Watson?” he asked in\n",
      "undisguised wonder, as we rattled through the crowded London streets.\n",
      "“You are as thin as a lath and as brown as a nut.”\n",
      "\n",
      "I gave him a short sketch of my adventures, and had hardly concluded it\n",
      "by the time that we reached our destination.\n",
      "\n",
      "“Poor devil!” he said, commiseratingly, after he had listened to my\n",
      "misfortunes. “What are you up to now?”\n",
      "\n",
      "“Looking for lodgings,” I answered. “Trying to solve the problem as to\n",
      "whether it is poss\n"
     ]
    }
   ],
   "execution_count": 67
  },
  {
   "metadata": {
    "ExecuteTime": {
     "end_time": "2025-08-19T17:19:47.770085Z",
     "start_time": "2025-08-19T17:19:12.925649Z"
    }
   },
   "cell_type": "code",
   "source": [
    "client = OpenAI()\n",
    "\n",
    "response = client.responses.create(\n",
    "  model=\"gpt-5-nano\",\n",
    "  input=\"Mention words that indicate that Sherlock Holmes is the speaker in the Sherlock Holmes books. Ex: 'Holmes said', 'said Sherlock', etc. Return only the words that are frequently used in the books.\"\n",
    ")"
   ],
   "id": "b8094a39eb384c8c",
   "outputs": [],
   "execution_count": 28
  },
  {
   "metadata": {
    "ExecuteTime": {
     "end_time": "2025-08-19T17:41:51.369425Z",
     "start_time": "2025-08-19T17:41:51.364989Z"
    }
   },
   "cell_type": "code",
   "source": [
    "indicators = response.output[-1].content[0].text\n",
    "indicators = indicators[8:]\n",
    "indicators = indicators.split(sep=\", \", maxsplit=len(indicators))\n",
    "indicators = [\"Holmes \" + indicator for indicator in indicators]\n",
    "print(indicators, \"\\n\", len(indicators))"
   ],
   "id": "f0caba59f2b787a8",
   "outputs": [
    {
     "name": "stdout",
     "output_type": "stream",
     "text": [
      "['Holmes said', 'Holmes added', 'Holmes replied', 'Holmes answered', 'Holmes asked', 'Holmes remarked', 'Holmes observed', 'Holmes exclaimed', 'Holmes cried', 'Holmes whispered', 'Holmes murmured', 'Holmes stated', 'Holmes declared', 'Holmes asserted', 'Holmes noted', 'Holmes explained', 'Holmes suggested', 'Holmes interjected', 'Holmes inquired', 'Holmes announced', 'Holmes confessed', 'Holmes hinted', 'Holmes insisted', 'Holmes mentioned', 'Holmes retorted', 'Holmes clarified'] \n",
      " 26\n"
     ]
    }
   ],
   "execution_count": 79
  },
  {
   "metadata": {},
   "cell_type": "code",
   "outputs": [],
   "execution_count": null,
   "source": "",
   "id": "42f660c652f62b1d"
  }
 ],
 "metadata": {
  "kernelspec": {
   "display_name": "Python 3",
   "language": "python",
   "name": "python3"
  },
  "language_info": {
   "codemirror_mode": {
    "name": "ipython",
    "version": 2
   },
   "file_extension": ".py",
   "mimetype": "text/x-python",
   "name": "python",
   "nbconvert_exporter": "python",
   "pygments_lexer": "ipython2",
   "version": "2.7.6"
  }
 },
 "nbformat": 4,
 "nbformat_minor": 5
}
